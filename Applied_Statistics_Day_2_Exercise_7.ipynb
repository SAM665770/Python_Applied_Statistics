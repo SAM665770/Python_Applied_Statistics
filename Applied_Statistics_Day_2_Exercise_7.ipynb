{
  "nbformat": 4,
  "nbformat_minor": 0,
  "metadata": {
    "colab": {
      "provenance": []
    },
    "kernelspec": {
      "name": "python3",
      "display_name": "Python 3"
    },
    "language_info": {
      "name": "python"
    }
  },
  "cells": [
    {
      "cell_type": "code",
      "execution_count": 9,
      "metadata": {
        "colab": {
          "base_uri": "https://localhost:8080/",
          "height": 0
        },
        "id": "U46PX79Kxcfw",
        "outputId": "1a7e12d8-aa09-4685-d786-9611dfede3c1"
      },
      "outputs": [
        {
          "output_type": "stream",
          "name": "stdout",
          "text": [
            "Newly created array: 2 6 1 0 9 12 "
          ]
        }
      ],
      "source": [
        "import array as ar\n",
        "arr = ar.array('i',[2,6,1,0,9,12])\n",
        "print(\"Newly created array: \",end=\"\")\n",
        "for i in range(0,6):\n",
        "  print(arr[i],end=\" \")"
      ]
    },
    {
      "cell_type": "code",
      "source": [
        "import pandas as pd\n",
        "dict = {'Name':['Sam','Ram','Raj','Bob'],'Age':[23,25,56,78]}\n",
        "df = pd.DataFrame(dict,index=[True,False,True,False])\n",
        "print(df)\n",
        "print(\"Accessing data frame using boolean index:-\")\n",
        "print(df.loc[True])"
      ],
      "metadata": {
        "colab": {
          "base_uri": "https://localhost:8080/",
          "height": 0
        },
        "id": "6uH6Cgkn0hu5",
        "outputId": "0c7ebe66-5dcd-4891-8457-5cee6cad123b"
      },
      "execution_count": 11,
      "outputs": [
        {
          "output_type": "stream",
          "name": "stdout",
          "text": [
            "      Name  Age\n",
            "True   Sam   23\n",
            "False  Ram   25\n",
            "True   Raj   56\n",
            "False  Bob   78\n",
            "Accessing data frame using boolean index:-\n",
            "     Name  Age\n",
            "True  Sam   23\n",
            "True  Raj   56\n"
          ]
        }
      ]
    },
    {
      "cell_type": "code",
      "source": [
        "import numpy as np\n",
        "arr = np.arange(10)\n",
        "print(\"The Original array is: \",arr,end=\" \")\n",
        "\n",
        "arr=np.arange(10).reshape(2,5)\n",
        "print(\"\\nReshaped array with 2 rows and 5 columns:\")\n",
        "print(arr)\n",
        "print(\"\\nReshaped array with 5 rows and 2 columns:\")\n",
        "arr=np.arange(10).reshape(5,2)\n",
        "print(arr)"
      ],
      "metadata": {
        "colab": {
          "base_uri": "https://localhost:8080/",
          "height": 0
        },
        "id": "agQM3e0I4T5o",
        "outputId": "88547951-29d0-489d-bbba-2b1cb7b615e5"
      },
      "execution_count": 21,
      "outputs": [
        {
          "output_type": "stream",
          "name": "stdout",
          "text": [
            "The Original array is:  [0 1 2 3 4 5 6 7 8 9] \n",
            "Reshaped array with 2 rows and 5 columns:\n",
            "[[0 1 2 3 4]\n",
            " [5 6 7 8 9]]\n",
            "\n",
            "Reshaped array with 5 rows and 2 columns:\n",
            "[[0 1]\n",
            " [2 3]\n",
            " [4 5]\n",
            " [6 7]\n",
            " [8 9]]\n"
          ]
        }
      ]
    }
  ]
}