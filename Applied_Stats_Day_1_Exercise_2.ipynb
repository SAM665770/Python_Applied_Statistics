{
  "nbformat": 4,
  "nbformat_minor": 0,
  "metadata": {
    "colab": {
      "provenance": []
    },
    "kernelspec": {
      "name": "python3",
      "display_name": "Python 3"
    },
    "language_info": {
      "name": "python"
    }
  },
  "cells": [
    {
      "cell_type": "code",
      "execution_count": 2,
      "metadata": {
        "colab": {
          "base_uri": "https://localhost:8080/"
        },
        "id": "Hbjt3_96Xt-w",
        "outputId": "b1771d45-8026-4157-bed1-9fbe2eb6012d"
      },
      "outputs": [
        {
          "output_type": "stream",
          "name": "stdout",
          "text": [
            "Empty DataFrame\n",
            "Columns: []\n",
            "Index: []\n"
          ]
        }
      ],
      "source": [
        "import pandas as pd\n",
        "df = pd.DataFrame()\n",
        "print(df)"
      ]
    },
    {
      "cell_type": "code",
      "source": [
        "list = ['red','green','blue']\n",
        "df = pd.DataFrame(list)\n",
        "print(df)"
      ],
      "metadata": {
        "colab": {
          "base_uri": "https://localhost:8080/"
        },
        "id": "DY5wZR6xb_gk",
        "outputId": "90e709a0-7397-4f46-88d8-6a2cc5ed1794"
      },
      "execution_count": 3,
      "outputs": [
        {
          "output_type": "stream",
          "name": "stdout",
          "text": [
            "       0\n",
            "0    red\n",
            "1  green\n",
            "2   blue\n"
          ]
        }
      ]
    },
    {
      "cell_type": "code",
      "source": [
        "data = {'Roll_Number':[100,101,102],'Name':['Sam','Ram','Raj']}\n",
        "df = pd.DataFrame(data)\n",
        "print(df)"
      ],
      "metadata": {
        "colab": {
          "base_uri": "https://localhost:8080/"
        },
        "id": "RxunbapucSE_",
        "outputId": "31fe35eb-2c26-4177-e695-2e3db35722d8"
      },
      "execution_count": 4,
      "outputs": [
        {
          "output_type": "stream",
          "name": "stdout",
          "text": [
            "   Roll_Number Name\n",
            "0          100  Sam\n",
            "1          101  Ram\n",
            "2          102  Raj\n"
          ]
        }
      ]
    },
    {
      "cell_type": "code",
      "source": [
        "data = {'Colour':pd.Series(['Red','Green','Blue','Black'],index=[1,2,3,4]),'Fruits':pd.Series(['Apple','Banana','Orange'],index=[1,2,3])}\n",
        "d1 = pd.DataFrame(data)\n",
        "print(d1)\n",
        "print()\n",
        "print(d1['Fruits'])"
      ],
      "metadata": {
        "colab": {
          "base_uri": "https://localhost:8080/"
        },
        "id": "T_cJmJpHeQek",
        "outputId": "c51e32c1-6825-4e55-9e73-0cc64992c393"
      },
      "execution_count": 5,
      "outputs": [
        {
          "output_type": "stream",
          "name": "stdout",
          "text": [
            "  Colour  Fruits\n",
            "1    Red   Apple\n",
            "2  Green  Banana\n",
            "3   Blue  Orange\n",
            "4  Black     NaN\n",
            "\n",
            "1     Apple\n",
            "2    Banana\n",
            "3    Orange\n",
            "4       NaN\n",
            "Name: Fruits, dtype: object\n"
          ]
        }
      ]
    },
    {
      "cell_type": "code",
      "source": [
        "data1 = {'Name':pd.Series(['Sam','Ram','Raj'],index=[1,2,3]),'Roll Number':pd.Series([100,101,102],index=[1,2,3])}\n",
        "df1=pd.DataFrame(data1)\n",
        "print(df1)\n",
        "print(\"\\n Adding new column by passing series:- \")\n",
        "df1['Age']=pd.Series([19,20,23],index=[1,2,3])\n",
        "print(df1)\n",
        "print(\"\\n Adding new column using existing columns:-\")\n",
        "df1['Sum']=df1['Roll Number']+df1['Age']\n",
        "print(df1)"
      ],
      "metadata": {
        "id": "PQo_kFSLi0FN",
        "colab": {
          "base_uri": "https://localhost:8080/"
        },
        "outputId": "7c492bb3-d9c2-4a7c-c154-f7b300568b8b"
      },
      "execution_count": 7,
      "outputs": [
        {
          "output_type": "stream",
          "name": "stdout",
          "text": [
            "  Name  Roll Number\n",
            "1  Sam          100\n",
            "2  Ram          101\n",
            "3  Raj          102\n",
            "\n",
            " Adding new column by passing series:- \n",
            "  Name  Roll Number  Age\n",
            "1  Sam          100   19\n",
            "2  Ram          101   20\n",
            "3  Raj          102   23\n",
            "\n",
            " Adding new column using existing columns:-\n",
            "  Name  Roll Number  Age  Sum\n",
            "1  Sam          100   19  119\n",
            "2  Ram          101   20  121\n",
            "3  Raj          102   23  125\n"
          ]
        }
      ]
    },
    {
      "cell_type": "code",
      "source": [
        "data1 = {'Name':pd.Series(['Sam','Ram','Raj'],index=[1,2,3]),'Roll Number':pd.Series([100,101,102],index=[1,2,3])}\n",
        "print(\"The DataFrame is:- \")\n",
        "df=pd.DataFrame(data1)\n",
        "print(df)\n",
        "print(\"\\nDeleting a column:-\")\n",
        "df.pop('Name')\n",
        "print(df)"
      ],
      "metadata": {
        "colab": {
          "base_uri": "https://localhost:8080/"
        },
        "id": "XkLQYzGPb4t-",
        "outputId": "27d69f1d-ca3a-4c05-c247-ba60e4c27d19"
      },
      "execution_count": 11,
      "outputs": [
        {
          "output_type": "stream",
          "name": "stdout",
          "text": [
            "The DataFrame is:- \n",
            "  Name  Roll Number\n",
            "1  Sam          100\n",
            "2  Ram          101\n",
            "3  Raj          102\n",
            "\n",
            "Deleting a column:-\n",
            "   Roll Number\n",
            "1          100\n",
            "2          101\n",
            "3          102\n"
          ]
        }
      ]
    },
    {
      "cell_type": "code",
      "source": [
        "data = {'ID':pd.Series([101,102,103],index=[1,2,3]),'Age':pd.Series([20,23,34],index=[1,2,3])}\n",
        "df = pd.DataFrame(data)\n",
        "print(df)\n",
        "print(\"\\nDisplaying a specified row:-\")\n",
        "print(df.iloc[1])"
      ],
      "metadata": {
        "colab": {
          "base_uri": "https://localhost:8080/"
        },
        "id": "GATNeQTNfWwf",
        "outputId": "4dd6fc4f-4501-4a3e-d22f-ed6908d8259c"
      },
      "execution_count": 24,
      "outputs": [
        {
          "output_type": "stream",
          "name": "stdout",
          "text": [
            "    ID  Age\n",
            "1  101   20\n",
            "2  102   23\n",
            "3  103   34\n",
            "\n",
            "Displaying a specified row:-\n",
            "ID     102\n",
            "Age     23\n",
            "Name: 2, dtype: int64\n"
          ]
        }
      ]
    },
    {
      "cell_type": "code",
      "source": [
        "data1 = {'Name':pd.Series(['Sam','Ram','Raj','Ravi','Yash'],index=[1,2,3,4,5]),'Roll Number':pd.Series([100,101,102,103,104],index=[1,2,3,4,5])}\n",
        "df=pd.DataFrame(data1)\n",
        "print(df)\n",
        "print(\"\\nSlicing Rows:-\")\n",
        "print(df[1:4])"
      ],
      "metadata": {
        "colab": {
          "base_uri": "https://localhost:8080/"
        },
        "id": "WLPfdvgQiJDr",
        "outputId": "9d3d2a97-bcc9-45e0-92e0-240580025e38"
      },
      "execution_count": 17,
      "outputs": [
        {
          "output_type": "stream",
          "name": "stdout",
          "text": [
            "   Name  Roll Number\n",
            "1   Sam          100\n",
            "2   Ram          101\n",
            "3   Raj          102\n",
            "4  Ravi          103\n",
            "5  Yash          104\n",
            "\n",
            "Slicing Rows:-\n",
            "   Name  Roll Number\n",
            "2   Ram          101\n",
            "3   Raj          102\n",
            "4  Ravi          103\n"
          ]
        }
      ]
    },
    {
      "cell_type": "code",
      "source": [
        "data = pd.DataFrame([[1,2],[3,4]],columns=['x','y'])\n",
        "print(data)\n",
        "print(\"\\nAdding new row:-\")\n",
        "d1 = pd.DataFrame([[7,8]],columns=['x','y'])\n",
        "data=data.append(d1)\n",
        "print(data)\n",
        "data=data.drop(1)\n",
        "print(\"\\nDeleting a row:-\")\n",
        "print(data)"
      ],
      "metadata": {
        "colab": {
          "base_uri": "https://localhost:8080/"
        },
        "id": "4rK0NO6erFz8",
        "outputId": "dcc33b08-3a5b-486f-8156-2b47ee448574"
      },
      "execution_count": 25,
      "outputs": [
        {
          "output_type": "stream",
          "name": "stdout",
          "text": [
            "   x  y\n",
            "0  1  2\n",
            "1  3  4\n",
            "\n",
            "Adding new row:-\n",
            "   x  y\n",
            "0  1  2\n",
            "1  3  4\n",
            "0  7  8\n",
            "\n",
            "Deleting a row:-\n",
            "   x  y\n",
            "0  1  2\n",
            "0  7  8\n"
          ]
        },
        {
          "output_type": "stream",
          "name": "stderr",
          "text": [
            "<ipython-input-25-b561bfde033f>:5: FutureWarning: The frame.append method is deprecated and will be removed from pandas in a future version. Use pandas.concat instead.\n",
            "  data=data.append(d1)\n"
          ]
        }
      ]
    }
  ]
}